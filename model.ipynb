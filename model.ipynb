{
 "cells": [
  {
   "cell_type": "code",
   "execution_count": 2,
   "metadata": {},
   "outputs": [],
   "source": [
    "import numpy as np\n",
    "import spatialmath as sm\n",
    "from math import pi, sin, cos, cosh, sinh, sqrt, tan\n",
    "import roboticstoolbox as rtb"
   ]
  },
  {
   "cell_type": "code",
   "execution_count": 94,
   "metadata": {},
   "outputs": [
    {
     "name": "stdout",
     "output_type": "stream",
     "text": [
      "ERobot: panda (by Franka Emika), 7 joints (RRRRRRR), 1 gripper, geometry, collision\n",
      "┌─────┬──────────────┬───────┬─────────────┬────────────────────────────────────────────────┐\n",
      "│link │     link     │ joint │   parent    │              ETS: parent to link               │\n",
      "├─────┼──────────────┼───────┼─────────────┼────────────────────────────────────────────────┤\n",
      "│   0 │ panda_link0  │       │ BASE        │ SE3()                                          │\n",
      "│   1 │ panda_link1  │     0 │ panda_link0 │ SE3(0, 0, 0.333) ⊕ Rz(q0)                      │\n",
      "│   2 │ panda_link2  │     1 │ panda_link1 │ SE3(-90°, -0°, 0°) ⊕ Rz(q1)                    │\n",
      "│   3 │ panda_link3  │     2 │ panda_link2 │ SE3(0, -0.316, 0; 90°, -0°, 0°) ⊕ Rz(q2)       │\n",
      "│   4 │ panda_link4  │     3 │ panda_link3 │ SE3(0.0825, 0, 0; 90°, -0°, 0°) ⊕ Rz(q3)       │\n",
      "│   5 │ panda_link5  │     4 │ panda_link4 │ SE3(-0.0825, 0.384, 0; -90°, -0°, 0°) ⊕ Rz(q4) │\n",
      "│   6 │ panda_link6  │     5 │ panda_link5 │ SE3(90°, -0°, 0°) ⊕ Rz(q5)                     │\n",
      "│   7 │ panda_link7  │     6 │ panda_link6 │ SE3(0.088, 0, 0; 90°, -0°, 0°) ⊕ Rz(q6)        │\n",
      "│   8 │ @panda_link8 │       │ panda_link7 │ SE3(0, 0, 0.107)                               │\n",
      "└─────┴──────────────┴───────┴─────────────┴────────────────────────────────────────────────┘\n",
      "\n",
      "┌─────┬─────┬────────┬─────┬───────┬─────┬───────┬──────┐\n",
      "│name │ q0  │ q1     │ q2  │ q3    │ q4  │ q5    │ q6   │\n",
      "├─────┼─────┼────────┼─────┼───────┼─────┼───────┼──────┤\n",
      "│  qr │  0° │ -17.2° │  0° │ -126° │  0° │  115° │  45° │\n",
      "│  qz │  0° │  0°    │  0° │  0°   │  0° │  0°   │  0°  │\n",
      "└─────┴─────┴────────┴─────┴───────┴─────┴───────┴──────┘\n",
      "\n"
     ]
    }
   ],
   "source": [
    "robot = rtb.models.Panda()\n",
    "print(robot)"
   ]
  },
  {
   "cell_type": "code",
   "execution_count": null,
   "metadata": {},
   "outputs": [
    {
     "ename": "SyntaxError",
     "evalue": "invalid syntax (4102139864.py, line 58)",
     "output_type": "error",
     "traceback": [
      "\u001b[1;36m  Input \u001b[1;32mIn [3]\u001b[1;36m\u001b[0m\n\u001b[1;33m    p0_7 = H7_E..t.reshape(-1,1)\u001b[0m\n\u001b[1;37m                ^\u001b[0m\n\u001b[1;31mSyntaxError\u001b[0m\u001b[1;31m:\u001b[0m invalid syntax\n"
     ]
    }
   ],
   "source": [
    "# FK\n",
    "def FK(q1,q2,q3,q4,q5,q6,q7):\n",
    "\n",
    "    H1_2 = sm.SE3(0,0,0.333) * sm.SE3.Rz(q1) \n",
    "    \n",
    "    H2_3 = sm.SE3.Rx(-90,unit='deg')*sm.SE3.Rz(q2) \n",
    "\n",
    "    H3_4 = sm.SE3.RPY(90,0,0,unit='deg')* sm.SE3(0,0,0.316) * sm.SE3.Rz(q3) \n",
    "    \n",
    "    H4_5 =  sm.SE3.RPY(90,0,0,unit='deg') * sm.SE3(0.0825,0,0) *sm.SE3.Rz(q4)\n",
    "\n",
    "    H5_6 = sm.SE3(-0.0825,0,0) * sm.SE3.Rx(-90,unit='deg')*  sm.SE3(0,0,0.384) *sm.SE3.Rz(q5) \n",
    "    \n",
    "    H6_7 = sm.SE3.RPY(90,0,0,unit='deg') * sm.SE3.Rz(q6) \n",
    "\n",
    "    H7_E = sm.SE3(0.088,0,0) * sm.SE3.RPY(90,0,0,unit='deg') * sm.SE3.Rz(q7) * sm.SE3(0,0,0.107)*sm.SE3(0,0,0.1)*sm.SE3.Rz(-45,unit='deg')\n",
    "    \n",
    "    T = H1_2 * H2_3 * H3_4 * H4_5 * H5_6 * H6_7 * H7_E  \n",
    "    return T\n",
    "T = FK(pi/2,0,pi/2,0,0,pi/7,pi/6)\n",
    "\n",
    "qz = [pi/2,0,pi/2,0,0,pi/7,pi/6]\n",
    "\n",
    "# Jacob matrix\n",
    "def Jocob_matrix(q):\n",
    "    q1 = q[0]\n",
    "    q2 = q[1]\n",
    "    q3 = q[2]\n",
    "    q4 = q[3]\n",
    "    q5 = q[4]\n",
    "    q6 = q[5]\n",
    "    q7 = q[6]\n",
    "    H1_2 = sm.SE3(0,0,0.333) * sm.SE3.Rz(q1) \n",
    "    \n",
    "    H2_3 = sm.SE3.Rx(-90,unit='deg')*sm.SE3.Rz(q2) \n",
    "\n",
    "    H3_4 = sm.SE3.RPY(90,0,0,unit='deg')* sm.SE3(0,0,0.316) * sm.SE3.Rz(q3) \n",
    "    \n",
    "    H4_5 =  sm.SE3.RPY(90,0,0,unit='deg') * sm.SE3(0.0825,0,0) *sm.SE3.Rz(q4)\n",
    "\n",
    "    H5_6 = sm.SE3(-0.0825,0,0) * sm.SE3.Rx(-90,unit='deg')*  sm.SE3(0,0,0.384) *sm.SE3.Rz(q5) \n",
    "    \n",
    "    H6_7 = sm.SE3.RPY(90,0,0,unit='deg') * sm.SE3.Rz(q6) \n",
    "\n",
    "    H7_E = sm.SE3(0.088,0,0) * sm.SE3.RPY(90,0,0,unit='deg') * sm.SE3.Rz(q7) * sm.SE3(0,0,0.107)*sm.SE3(0,0,0.1)*sm.SE3.Rz(-45,unit='deg')\n",
    "    \n",
    "    T = H1_2 * H2_3 * H3_4 * H4_5 * H5_6 * H6_7 * H7_E  \n",
    "    z = np.array([[0],[0],[1]])\n",
    "    print(T.t.reshape(-1,1))\n",
    "    p0_n = T.t.reshape(-1,1)\n",
    "    p0_0 = z\n",
    "    p0_1 = H1_2.t.reshape(-1,1)\n",
    "    p0_2 = H2_3.t.reshape(-1,1)\n",
    "    p0_3 = H3_4.t.reshape(-1,1)\n",
    "    p0_4 = H4_5.t.reshape(-1,1)\n",
    "    p0_5 = H5_6.t.reshape(-1,1)\n",
    "    p0_6 = H6_7.t.reshape(-1,1)\n",
    "    p0_7 = H7_E.t.reshape(-1,1)\n",
    "    #J1 = np.cross(z,T.) \n",
    "Jocob_matrix(robot.qz)\n",
    "\n",
    "\n",
    "#print(robot.qz)\n"
   ]
  },
  {
   "cell_type": "markdown",
   "metadata": {},
   "source": [
    "#IK\n",
    "\n"
   ]
  }
 ],
 "metadata": {
  "kernelspec": {
   "display_name": "Python 3",
   "language": "python",
   "name": "python3"
  },
  "language_info": {
   "codemirror_mode": {
    "name": "ipython",
    "version": 3
   },
   "file_extension": ".py",
   "mimetype": "text/x-python",
   "name": "python",
   "nbconvert_exporter": "python",
   "pygments_lexer": "ipython3",
   "version": "3.9.12"
  }
 },
 "nbformat": 4,
 "nbformat_minor": 2
}
